{
 "cells": [
  {
   "cell_type": "code",
   "execution_count": null,
   "metadata": {
    "collapsed": false
   },
   "outputs": [],
   "source": []
  },
  {
   "cell_type": "code",
   "execution_count": null,
   "metadata": {
    "collapsed": false
   },
   "outputs": [],
   "source": [
    "import numpy as np\n",
    "import matplotlib.pyplot as plt\n",
    "from matplotlib import rc\n",
    "import pylab\n",
    "from numpy import *\n",
    "import matplotlib.pyplot as plt\n",
    "from mpl_toolkits.mplot3d import Axes3D\n",
    "#%matplotlib inline\n",
    "\n",
    "#IMPORTING DATA FROM QT\n",
    "data = loadtxt(\"positionsxyzAllNASA85.txt\")\n",
    "dataJ = loadtxt(\"positionsxyzAllNASA85.txt\", skiprows=2)\n",
    "dataM = loadtxt(\"positionsxyzAllNASA85.txt\", skiprows=3)\n",
    "dataV = loadtxt(\"positionsxyzAllNASA85.txt\", skiprows=4)\n",
    "dataS = loadtxt(\"positionsxyzAllNASA85.txt\", skiprows=5)\n",
    "dataMer = loadtxt(\"positionsxyzAllNASA85.txt\", skiprows=6)\n",
    "dataU = loadtxt(\"positionsxyzAllNASA85.txt\", skiprows=7)\n",
    "dataN = loadtxt(\"positionsxyzAllNASA85.txt\", skiprows=8)\n",
    "dataP = loadtxt(\"positionsxyzAllNASA85.txt\", skiprows=9)\n",
    "\n",
    "dataposEarth = data[1::10]\n",
    "dataposE= dataposEarth[1::10]\n",
    "\n",
    "dataposJupiter = dataJ[::10]\n",
    "dataposMars = dataM[::10]\n",
    "dataposVenus = dataV[::10]\n",
    "dataposSaturn = dataS[::10]\n",
    "dataposMercury = dataMer[::10]\n",
    "dataposUranus = dataU[::10]\n",
    "dataposNeptune = dataN[::10]\n",
    "dataposPluto = dataP[::10]\n",
    "\n",
    "xE,yE,zE = dataposE[:,1], dataposE[:,2]  , dataposE[:,3]\n",
    "xJ,yJ,zJ = dataposJupiter[:,1], dataposJupiter[:,2]  , dataposJupiter[:,3]\n",
    "xM,yM,zM = dataposMars[:,1], dataposMars[:,2]  , dataposMars[:,3]\n",
    "xV,yV,zV = dataposVenus[:,1], dataposVenus[:,2]  , dataposVenus[:,3]\n",
    "xS,yS,zS = dataposSaturn[:,1], dataposSaturn[:,2]  , dataposSaturn[:,3]\n",
    "xMer,yMer,zMer = dataposMercury[:,1], dataposMercury[:,2]  , dataposMercury[:,3]\n",
    "xU,yU,zU = dataposUranus[:,1], dataposUranus[:,2]  , dataposUranus[:,3]\n",
    "xN,yN,zN = dataposNeptune[:,1], dataposNeptune[:,2]  , dataposNeptune[:,3]\n",
    "xP,yP,zP = dataposPluto[:,1], dataposPluto[:,2]  , dataposPluto[:,3]\n",
    "\n",
    "fig = plt.figure()\n",
    "ax = fig.add_subplot(111, projection='3d')\n",
    "ax.plot(xE, yE, zE)\n",
    "ax.plot(xJ, yJ, zJ)\n",
    "ax.plot(xM, yM, zM)\n",
    "ax.plot(xV,yV,zV)\n",
    "ax.plot(xS,yS,zS)\n",
    "ax.plot(xMer,yMer,zMer)\n",
    "ax.plot(xU,yU,zU)\n",
    "ax.plot(xN,yN,zN)\n",
    "ax.plot(xP,yP,zP)\n",
    "\n",
    "ax.set_title('Solar System In 3D')\n",
    "\n",
    "ax.set_xlabel('X-Position [AU]')\n",
    "ax.set_ylabel('Y-Position [AU]')\n",
    "ax.set_zlabel('Z-Position [AU]')\n",
    "ax.scatter([0],[0],[0],color=\"r\",s=150)\n",
    "ax.scatter([0.8],[0.6],[0],color=\"g\",s=50)\n",
    "ax.scatter([5.1],[0],[0],color=\"y\",s=70)\n",
    "\n",
    "ax.set_aspect('equal')\n",
    "#ax.set_ylim([-10,10])\n",
    "#ax.set_xlim([-10,10])\n",
    "#ax.set_zlim([-10,10])\n",
    "#ax.annotate('Earth',xy=(0.01,0.003))\n",
    "#ax.annotate('SUN',xy=(-0.002,0.007))\n",
    "#ax.annotate('Jupiter',xy=(0.03,0.0))\n",
    "\n",
    "plt.show()"
   ]
  },
  {
   "cell_type": "code",
   "execution_count": null,
   "metadata": {
    "collapsed": true
   },
   "outputs": [],
   "source": []
  }
 ],
 "metadata": {
  "anaconda-cloud": {},
  "kernelspec": {
   "display_name": "Python [Root]",
   "language": "python",
   "name": "Python [Root]"
  },
  "language_info": {
   "codemirror_mode": {
    "name": "ipython",
    "version": 2
   },
   "file_extension": ".py",
   "mimetype": "text/x-python",
   "name": "python",
   "nbconvert_exporter": "python",
   "pygments_lexer": "ipython2",
   "version": "2.7.12"
  }
 },
 "nbformat": 4,
 "nbformat_minor": 0
}
