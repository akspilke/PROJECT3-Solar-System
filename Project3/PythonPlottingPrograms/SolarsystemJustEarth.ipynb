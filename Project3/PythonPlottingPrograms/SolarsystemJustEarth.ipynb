{
 "cells": [
  {
   "cell_type": "code",
   "execution_count": null,
   "metadata": {
    "collapsed": true
   },
   "outputs": [],
   "source": [
    "import numpy as np\n",
    "import matplotlib.pyplot as plt\n",
    "from matplotlib import rc\n",
    "import pylab\n",
    "from numpy import *\n",
    "import matplotlib.pyplot as plt\n",
    "from mpl_toolkits.mplot3d import Axes3D\n",
    "#%matplotlib inline\n",
    "\n",
    "data = loadtxt(\"positionsxyzEarthVerlet3.txt\")\n",
    "\n",
    "dataposEarth = data[1::2]\n",
    "dataposE= dataposEarth[1::2]\n",
    "xE,yE,zE = dataposE[:,1], dataposE[:,2]  , dataposE[:,3]\n",
    "\n",
    "fig = plt.figure()\n",
    "ax = fig.add_subplot(111, projection='3d')\n",
    "ax.plot(xE, yE, zE)\n",
    "\n",
    "ax.set_title('Earth-Sun system In 3D')\n",
    "\n",
    "ax.set_xlabel('X-Position [AU]')\n",
    "ax.set_ylabel('Y-Position [AU]')\n",
    "ax.set_zlabel('Z-Position [AU]')\n",
    "ax.scatter([0],[0],[0],color=\"r\",s=150)\n",
    "ax.scatter([0.8],[0.6],[0],color=\"g\",s=50)\n",
    "\n",
    "ax.set_aspect('equal')\n",
    "\n",
    "plt.show()"
   ]
  },
  {
   "cell_type": "code",
   "execution_count": null,
   "metadata": {
    "collapsed": true
   },
   "outputs": [],
   "source": []
  }
 ],
 "metadata": {
  "anaconda-cloud": {},
  "kernelspec": {
   "display_name": "Python [Root]",
   "language": "python",
   "name": "Python [Root]"
  },
  "language_info": {
   "codemirror_mode": {
    "name": "ipython",
    "version": 2
   },
   "file_extension": ".py",
   "mimetype": "text/x-python",
   "name": "python",
   "nbconvert_exporter": "python",
   "pygments_lexer": "ipython2",
   "version": "2.7.12"
  }
 },
 "nbformat": 4,
 "nbformat_minor": 0
}
