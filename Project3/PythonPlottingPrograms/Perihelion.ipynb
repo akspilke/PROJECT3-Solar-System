{
 "cells": [
  {
   "cell_type": "code",
   "execution_count": null,
   "metadata": {
    "collapsed": false
   },
   "outputs": [],
   "source": [
    "import numpy as np\n",
    "import matplotlib.pyplot as plt\n",
    "from matplotlib import rc\n",
    "import pylab\n",
    "from numpy import *\n",
    "import matplotlib.pyplot as plt\n",
    "from mpl_toolkits.mplot3d import Axes3D\n",
    "#%matplotlib inline\n",
    "\n",
    "data = loadtxt(\"PerihelionMercury10YR8.txt\")\n",
    "datat = loadtxt(\"PerihelionMercury10YR8.txt\", skiprows=1)\n",
    "\n",
    "Angle = data[::2]\n",
    "Time = datat[::2]\n",
    "\n",
    "time= Time*(1e-8)\n",
    "angle= Angle*(206264.806)\n",
    "print max(angle)\n",
    "\n",
    "plt.plot(time, angle)\n",
    "plt.title('Perihelion progression of Mercury 10 years')\n",
    "plt.xlabel('Time (years)')\n",
    "plt.ylabel('Angle (arcsecond)')\n",
    "\n",
    "plt.show()"
   ]
  },
  {
   "cell_type": "code",
   "execution_count": null,
   "metadata": {
    "collapsed": true
   },
   "outputs": [],
   "source": []
  }
 ],
 "metadata": {
  "anaconda-cloud": {},
  "kernelspec": {
   "display_name": "Python [Root]",
   "language": "python",
   "name": "Python [Root]"
  },
  "language_info": {
   "codemirror_mode": {
    "name": "ipython",
    "version": 2
   },
   "file_extension": ".py",
   "mimetype": "text/x-python",
   "name": "python",
   "nbconvert_exporter": "python",
   "pygments_lexer": "ipython2",
   "version": "2.7.12"
  }
 },
 "nbformat": 4,
 "nbformat_minor": 0
}
